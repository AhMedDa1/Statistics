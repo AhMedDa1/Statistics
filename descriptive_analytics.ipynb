{
  "cells": [
    {
      "cell_type": "markdown",
      "metadata": {
        "id": "view-in-github",
        "colab_type": "text"
      },
      "source": [
        "<a href=\"https://colab.research.google.com/github/AhMedDa1/Statistics/blob/main/descriptive_analytics.ipynb\" target=\"_parent\"><img src=\"https://colab.research.google.com/assets/colab-badge.svg\" alt=\"Open In Colab\"/></a>"
      ]
    },
    {
      "cell_type": "markdown",
      "id": "08adecb4-4288-4a55-914a-f3f614d8ff7d",
      "metadata": {
        "id": "08adecb4-4288-4a55-914a-f3f614d8ff7d"
      },
      "source": [
        "# [Descriptive statistics](https://en.wikipedia.org/wiki/Descriptive_statistics)\n",
        "\n",
        "## Center of Distribution\n",
        "\n",
        "Mean and median both try to measure the \"central tendency\" in a data set. The goal of each is to get an idea of a \"typical\" value in the data set. The mean is commonly used, but sometimes the median is preferred."
      ]
    },
    {
      "cell_type": "markdown",
      "id": "fcc9ecb3-3e9d-46c5-8937-35b34e4e7c83",
      "metadata": {
        "tags": [],
        "id": "fcc9ecb3-3e9d-46c5-8937-35b34e4e7c83"
      },
      "source": [
        "### Mean\n",
        "\n",
        "For a data set, the arithmetic mean also known as arithmetic average, is a central value of a finite set of numbers: specifically, the sum of the values divided by the number of values.\n",
        "\n",
        "If the data set were based on a series of observations obtained by sampling from a statistical population, the arithmetic mean is the sample mean (denoted ${\\displaystyle {\\bar {x}}}$) to distinguish it from the mean, or expected value of the underlying distribution, the population mean (denoted ${\\displaystyle \\mu }$ or ${\\displaystyle \\mu _{x}}$.\n",
        "\n",
        "- Population mean: $\\mu$ or $\\mu_x$\n",
        "- Sample mean: $\\bar x$"
      ]
    },
    {
      "cell_type": "code",
      "execution_count": 1,
      "id": "564a3db0-5d11-44b7-9e8e-14c7938cb5b1",
      "metadata": {
        "id": "564a3db0-5d11-44b7-9e8e-14c7938cb5b1"
      },
      "outputs": [],
      "source": [
        "import numpy as np\n",
        "from scipy import stats"
      ]
    },
    {
      "cell_type": "code",
      "execution_count": 7,
      "id": "56614f2b-44a9-48f5-93fa-329f71afea14",
      "metadata": {
        "colab": {
          "base_uri": "https://localhost:8080/"
        },
        "id": "56614f2b-44a9-48f5-93fa-329f71afea14",
        "outputId": "4ad853da-f84d-47fd-bc26-7f9738fd6d0b"
      },
      "outputs": [
        {
          "output_type": "execute_result",
          "data": {
            "text/plain": [
              "array([9, 3, 2, 5, 9, 1, 2, 5, 2, 4, 3])"
            ]
          },
          "metadata": {},
          "execution_count": 7
        }
      ],
      "source": [
        "rng = np.random.default_rng(20)\n",
        "arr = rng.integers(low=0, high=11, size=11)\n",
        "arr"
      ]
    },
    {
      "cell_type": "code",
      "execution_count": 8,
      "id": "234a0793-5e6f-41da-9d6f-f12c76ef20b8",
      "metadata": {
        "colab": {
          "base_uri": "https://localhost:8080/"
        },
        "id": "234a0793-5e6f-41da-9d6f-f12c76ef20b8",
        "outputId": "c6336eec-ab6b-41e6-ae46-f77c6e880334"
      },
      "outputs": [
        {
          "output_type": "execute_result",
          "data": {
            "text/plain": [
              "4.090909090909091"
            ]
          },
          "metadata": {},
          "execution_count": 8
        }
      ],
      "source": [
        "mu = np.mean(arr)\n",
        "mu"
      ]
    },
    {
      "cell_type": "markdown",
      "id": "ad1c7212-cfb4-47ec-bb9f-8067889b3edc",
      "metadata": {
        "id": "ad1c7212-cfb4-47ec-bb9f-8067889b3edc"
      },
      "source": [
        "### Median\n",
        "\n",
        "the **median** is the value separating the higher half from the lower half of a data sample, a population, or a probability distribution. For a data set, it may be thought of as \"the middle\" value."
      ]
    },
    {
      "cell_type": "code",
      "execution_count": 9,
      "id": "c913fb42-0281-4aa8-964e-1dccd5ca1891",
      "metadata": {
        "colab": {
          "base_uri": "https://localhost:8080/"
        },
        "id": "c913fb42-0281-4aa8-964e-1dccd5ca1891",
        "outputId": "73559026-8ae3-4ca0-e13e-e10f46d6b551"
      },
      "outputs": [
        {
          "output_type": "execute_result",
          "data": {
            "text/plain": [
              "3.0"
            ]
          },
          "metadata": {},
          "execution_count": 9
        }
      ],
      "source": [
        "median = np.median(arr)\n",
        "median"
      ]
    },
    {
      "cell_type": "markdown",
      "id": "790f6b69-61e7-404a-a375-fa140ff78ca6",
      "metadata": {
        "tags": [],
        "id": "790f6b69-61e7-404a-a375-fa140ff78ca6"
      },
      "source": [
        "### Mode\n",
        "\n",
        "The **mode** is the value that appears most often in a set of data values. If **X** is a discrete random variable, the mode is the value x (i.e, _**X**_ = _x_) at which the probability mass function takes its maximum value. In other words, it is the value that is most likely to be sampled."
      ]
    },
    {
      "cell_type": "code",
      "execution_count": 10,
      "id": "9d78a648-fde8-497c-b8e9-84243ec88b36",
      "metadata": {
        "colab": {
          "base_uri": "https://localhost:8080/"
        },
        "id": "9d78a648-fde8-497c-b8e9-84243ec88b36",
        "outputId": "72eb91cb-ad3f-4a40-e117-f512798227ae"
      },
      "outputs": [
        {
          "output_type": "execute_result",
          "data": {
            "text/plain": [
              "array([2])"
            ]
          },
          "metadata": {},
          "execution_count": 10
        }
      ],
      "source": [
        "mode = stats.mode(arr)[0]\n",
        "mode"
      ]
    },
    {
      "cell_type": "markdown",
      "id": "e4d56534-50cf-4fc8-be3f-bcd80713294a",
      "metadata": {
        "tags": [],
        "id": "e4d56534-50cf-4fc8-be3f-bcd80713294a"
      },
      "source": [
        "---\n",
        "\n",
        "## Data Patterns"
      ]
    },
    {
      "cell_type": "markdown",
      "id": "ba272eb1-af8e-46dd-8d5f-8e7130da54a4",
      "metadata": {
        "id": "ba272eb1-af8e-46dd-8d5f-8e7130da54a4"
      },
      "source": [
        "### Percentile\n",
        "\n",
        "A **_k_-th** **percentile** (**percentile score** or **centile**) is a score below which a given percentage _k_ of scores in its frequency distribution falls (exclusive definition) or a score _at or below which_ a given percentage falls (inclusive definition). For example, the 50th percentile (the median)) is the score below which (exclusive) or at or below which (inclusive) 50% of the scores in the distribution may be found. Percentiles are expressed in the same unit of measurement as the input scores; for example, if the scores refer to human weight, the corresponding percentiles will be expressed in kilograms or pounds.\n",
        "\n",
        "The 25th percentile is also known as the first quartile ($Q_1$), the 50th percentile as the median or second quartile ($Q_2$), and the 75th percentile as the third quartile ($Q_3$)."
      ]
    },
    {
      "cell_type": "code",
      "execution_count": 13,
      "id": "8a31e7a8-3fd9-4107-bfe9-129663cfac66",
      "metadata": {
        "colab": {
          "base_uri": "https://localhost:8080/"
        },
        "id": "8a31e7a8-3fd9-4107-bfe9-129663cfac66",
        "outputId": "61e6bc30-0d84-4522-c3c3-1e068ed814e9"
      },
      "outputs": [
        {
          "output_type": "execute_result",
          "data": {
            "text/plain": [
              "2"
            ]
          },
          "metadata": {},
          "execution_count": 13
        }
      ],
      "source": [
        "np.percentile(arr, 25, interpolation=\"lower\")"
      ]
    },
    {
      "cell_type": "code",
      "execution_count": 14,
      "id": "bafe3be9-53c5-400c-93d1-dce19bd75503",
      "metadata": {
        "colab": {
          "base_uri": "https://localhost:8080/"
        },
        "id": "bafe3be9-53c5-400c-93d1-dce19bd75503",
        "outputId": "4188d08e-29f9-4e1e-d0a2-ba7171b43825"
      },
      "outputs": [
        {
          "output_type": "execute_result",
          "data": {
            "text/plain": [
              "2.0"
            ]
          },
          "metadata": {},
          "execution_count": 14
        }
      ],
      "source": [
        "np.percentile(arr, 25, interpolation=\"midpoint\")"
      ]
    },
    {
      "cell_type": "code",
      "execution_count": 15,
      "id": "8e0d8c9b-eac0-472c-aa15-0fa27bcfd01c",
      "metadata": {
        "colab": {
          "base_uri": "https://localhost:8080/"
        },
        "id": "8e0d8c9b-eac0-472c-aa15-0fa27bcfd01c",
        "outputId": "2b0ef243-e626-40ea-c991-bcf612897715"
      },
      "outputs": [
        {
          "output_type": "execute_result",
          "data": {
            "text/plain": [
              "2"
            ]
          },
          "metadata": {},
          "execution_count": 15
        }
      ],
      "source": [
        "np.percentile(arr, 25, interpolation=\"higher\")"
      ]
    },
    {
      "cell_type": "code",
      "execution_count": 16,
      "id": "554196f1-692e-4c0b-b640-03c5bd2cb7a4",
      "metadata": {
        "colab": {
          "base_uri": "https://localhost:8080/"
        },
        "id": "554196f1-692e-4c0b-b640-03c5bd2cb7a4",
        "outputId": "b8ef04ce-3a91-4d6f-eab1-b00dde4e7889"
      },
      "outputs": [
        {
          "output_type": "execute_result",
          "data": {
            "text/plain": [
              "5"
            ]
          },
          "metadata": {},
          "execution_count": 16
        }
      ],
      "source": [
        "np.percentile(arr, 75, interpolation=\"lower\")"
      ]
    },
    {
      "cell_type": "code",
      "execution_count": 17,
      "id": "35ad8acd-252b-4820-83f9-1fda20322646",
      "metadata": {
        "colab": {
          "base_uri": "https://localhost:8080/"
        },
        "id": "35ad8acd-252b-4820-83f9-1fda20322646",
        "outputId": "6ca8dac8-291c-458f-d7d0-df2e2987657b"
      },
      "outputs": [
        {
          "output_type": "execute_result",
          "data": {
            "text/plain": [
              "5.0"
            ]
          },
          "metadata": {},
          "execution_count": 17
        }
      ],
      "source": [
        "np.percentile(arr, 75, interpolation=\"midpoint\")"
      ]
    },
    {
      "cell_type": "code",
      "execution_count": 18,
      "id": "742c6b98-7f96-470a-a2c8-2f54370946f6",
      "metadata": {
        "colab": {
          "base_uri": "https://localhost:8080/"
        },
        "id": "742c6b98-7f96-470a-a2c8-2f54370946f6",
        "outputId": "74f1c849-72ca-43ba-d121-8bf0349a75e4"
      },
      "outputs": [
        {
          "output_type": "execute_result",
          "data": {
            "text/plain": [
              "5"
            ]
          },
          "metadata": {},
          "execution_count": 18
        }
      ],
      "source": [
        "np.percentile(arr, 75, interpolation=\"higher\")"
      ]
    },
    {
      "cell_type": "markdown",
      "id": "9d5fdf5b-c993-4507-913c-2ca8322b8af8",
      "metadata": {
        "tags": [],
        "id": "9d5fdf5b-c993-4507-913c-2ca8322b8af8"
      },
      "source": [
        "### [IQR](https://en.wikipedia.org/wiki/Interquartile_range)\n",
        "\n",
        "The **interquartile range** (**IQR**) is a measure of statistical dispersion. It is the spread of the data or observations. The IQR may also be called the **midspread**, **middle 50%**, or **H‑spread.** It is defined as the spread difference between the 75th and 25th percentiles of the data. To calculate the IQR, the data set is divided into quartiles, or four rank-ordered even parts via linear interpolation. These quartiles are denoted by $Q_1$ (also called the lower quartile), $Q_2$ (the median), and $Q_3$ (also called the upper quartile). The lower quartile corresponds with the 25th percentile and the upper quartile corresponds with the 75th percentile, so $IQR = Q_3 − Q_1$."
      ]
    },
    {
      "cell_type": "code",
      "execution_count": 19,
      "id": "1b299bfd-3291-482c-8194-681c22034a64",
      "metadata": {
        "colab": {
          "base_uri": "https://localhost:8080/"
        },
        "id": "1b299bfd-3291-482c-8194-681c22034a64",
        "outputId": "22704366-aa80-49fa-854d-4a2fffb76144"
      },
      "outputs": [
        {
          "output_type": "execute_result",
          "data": {
            "text/plain": [
              "3.0"
            ]
          },
          "metadata": {},
          "execution_count": 19
        }
      ],
      "source": [
        "stats.iqr(arr)"
      ]
    },
    {
      "cell_type": "code",
      "execution_count": 20,
      "id": "691e334d-4f49-4f71-8a9f-c00c3b6281cf",
      "metadata": {
        "colab": {
          "base_uri": "https://localhost:8080/"
        },
        "id": "691e334d-4f49-4f71-8a9f-c00c3b6281cf",
        "outputId": "14b38ac1-6de1-4e6d-b4a5-cb5a6ea8b159"
      },
      "outputs": [
        {
          "output_type": "execute_result",
          "data": {
            "text/plain": [
              "3.0"
            ]
          },
          "metadata": {},
          "execution_count": 20
        }
      ],
      "source": [
        "stats.iqr(arr, interpolation=\"midpoint\")"
      ]
    },
    {
      "cell_type": "markdown",
      "id": "e525c261-84f3-45ff-b05a-71add8287a98",
      "metadata": {
        "id": "e525c261-84f3-45ff-b05a-71add8287a98"
      },
      "source": [
        "## Data Variability\n",
        "\n",
        "### Variance\n",
        "\n",
        " **Variance** is the expectation of the squared deviation of a random variable from its population mean or sample mean. Variance is a measure of dispersion, meaning it is a measure of how far a set of numbers is spread out from their average value. The variance is the square of the standard deviation, the second central moment of a distribution, and the covariance of the random variable with itself, and it is often represented by ${\\displaystyle \\sigma ^{2}}$, ${\\displaystyle s^{2}}$, ${\\displaystyle \\operatorname {Var} (X)}$, ${\\displaystyle V(X)}$, or ${\\displaystyle \\mathbb {V} (X)}$.\n",
        "\n",
        "- Population Variance: $\\sigma^2$\n",
        "- Sample Variance: $s^2$"
      ]
    },
    {
      "cell_type": "code",
      "execution_count": 22,
      "id": "59d2a9bf-b9a2-4666-97b8-3df272f5e132",
      "metadata": {
        "colab": {
          "base_uri": "https://localhost:8080/"
        },
        "id": "59d2a9bf-b9a2-4666-97b8-3df272f5e132",
        "outputId": "2dc47314-c829-4fb3-b6cb-abfb2af336e6"
      },
      "outputs": [
        {
          "output_type": "execute_result",
          "data": {
            "text/plain": [
              "6.8099173553719"
            ]
          },
          "metadata": {},
          "execution_count": 22
        }
      ],
      "source": [
        "# Population Variance\n",
        "variance = np.var(arr)\n",
        "variance"
      ]
    },
    {
      "cell_type": "code",
      "execution_count": 23,
      "id": "3b4f1c68-a738-4111-bb47-7056e354ada8",
      "metadata": {
        "colab": {
          "base_uri": "https://localhost:8080/"
        },
        "id": "3b4f1c68-a738-4111-bb47-7056e354ada8",
        "outputId": "fff25cb9-e415-461c-e81b-1410c6ee3b14"
      },
      "outputs": [
        {
          "output_type": "execute_result",
          "data": {
            "text/plain": [
              "7.49090909090909"
            ]
          },
          "metadata": {},
          "execution_count": 23
        }
      ],
      "source": [
        "# Sample Variance\n",
        "variance = np.var(arr, ddof=1)\n",
        "variance"
      ]
    },
    {
      "cell_type": "markdown",
      "id": "695dce29-07e5-4152-87e8-156290b2d173",
      "metadata": {
        "id": "695dce29-07e5-4152-87e8-156290b2d173"
      },
      "source": [
        "### Standard Deviation\n",
        "\n",
        "The **standard deviation** is a measure of the amount of variation or dispersion of a set of values. A low standard deviation indicates that the values tend to be close to the mean (also called the expected value) of the set, while a high standard deviation indicates that the values are spread out over a wider range.\n",
        "\n",
        "Standard deviation may be abbreviated **SD**, and is most commonly represented in mathematical texts and equations by the lower case Greek letter sigma **σ**, for the population standard deviation, or the Latin letter **s**, for the sample standard deviation.\n",
        "\n",
        "- Population SD: $\\sigma$\n",
        "- Sample SD: $s$"
      ]
    },
    {
      "cell_type": "code",
      "execution_count": 24,
      "id": "66c13695-4fd7-443b-8202-9361c19b6bcc",
      "metadata": {
        "colab": {
          "base_uri": "https://localhost:8080/"
        },
        "id": "66c13695-4fd7-443b-8202-9361c19b6bcc",
        "outputId": "fca9c633-9e4b-4f26-f4cc-763b3a106a02"
      },
      "outputs": [
        {
          "output_type": "execute_result",
          "data": {
            "text/plain": [
              "2.609581835346786"
            ]
          },
          "metadata": {},
          "execution_count": 24
        }
      ],
      "source": [
        "# Population SD\n",
        "sd = np.std(arr)\n",
        "sd"
      ]
    },
    {
      "cell_type": "code",
      "execution_count": 25,
      "id": "2be2323f-7016-4748-9937-1f219b964d41",
      "metadata": {
        "colab": {
          "base_uri": "https://localhost:8080/"
        },
        "id": "2be2323f-7016-4748-9937-1f219b964d41",
        "outputId": "8cb1a0b1-fad8-4f4c-97cc-e624042ab6b8"
      },
      "outputs": [
        {
          "output_type": "execute_result",
          "data": {
            "text/plain": [
              "2.7369525189358126"
            ]
          },
          "metadata": {},
          "execution_count": 25
        }
      ],
      "source": [
        "# Sample SD\n",
        "sd = np.std(arr, ddof=1)\n",
        "sd"
      ]
    },
    {
      "cell_type": "markdown",
      "id": "c1cc0c7b-3823-4716-b976-1c7312fc5b8a",
      "metadata": {
        "id": "c1cc0c7b-3823-4716-b976-1c7312fc5b8a"
      },
      "source": [
        "## Describe"
      ]
    },
    {
      "cell_type": "code",
      "execution_count": 28,
      "id": "e36d2e75-fca8-4535-b532-9423a4fbac1c",
      "metadata": {
        "colab": {
          "base_uri": "https://localhost:8080/"
        },
        "id": "e36d2e75-fca8-4535-b532-9423a4fbac1c",
        "outputId": "6dd0a691-630e-4028-86e5-90912c440eca"
      },
      "outputs": [
        {
          "output_type": "stream",
          "name": "stdout",
          "text": [
            "mean: 4.090909090909091\n",
            "Population Variance: 6.8099173553719\n",
            "Sample Variance: 7.49090909090909\n",
            "Population SD: 2.609581835346786\n",
            "Sample SD: 2.7369525189358126\n",
            "median: 3.0\n"
          ]
        }
      ],
      "source": [
        "def describe(arr):\n",
        "    print(\"mean:\", np.mean(arr))\n",
        "    print(\"Population Variance:\", np.var(arr))\n",
        "    print(\"Sample Variance:\", np.var(arr, ddof=1))\n",
        "    print(\"Population SD:\", np.std(arr))\n",
        "    print(\"Sample SD:\", np.std(arr, ddof=1))\n",
        "    print(\"median:\", np.median(arr))\n",
        "    \n",
        "describe(arr)"
      ]
    },
    {
      "cell_type": "markdown",
      "id": "44c1794a-d8f1-4168-847a-e73c1432a4ed",
      "metadata": {
        "id": "44c1794a-d8f1-4168-847a-e73c1432a4ed"
      },
      "source": [
        "---\n",
        "\n",
        "# Modeling Data Distribution"
      ]
    },
    {
      "cell_type": "markdown",
      "id": "cb470642-02bb-4af9-963b-99ad8fdfef83",
      "metadata": {
        "id": "cb470642-02bb-4af9-963b-99ad8fdfef83"
      },
      "source": [
        "## [Z-Scores](https://en.wikipedia.org/wiki/Standard_score)\n",
        "\n",
        "The **standard score** is the number of standard deviations by which the value of a raw score (i.e., an observed value or data point) is above or below the mean value of what is being observed or measured. Raw scores above the mean have positive standard scores, while those below the mean have negative standard scores.\n",
        "\n",
        "Standard scores are most commonly called **_z_-scores**;  Other equivalent terms in use include **z-values, normal scores**, **standardized variables**.\n",
        "\n",
        "Computing a z-score requires knowledge of the mean and standard deviation.."
      ]
    },
    {
      "cell_type": "code",
      "execution_count": 30,
      "id": "7451c798-f56d-42f6-ab27-65b3daa50db6",
      "metadata": {
        "colab": {
          "base_uri": "https://localhost:8080/"
        },
        "id": "7451c798-f56d-42f6-ab27-65b3daa50db6",
        "outputId": "9f7b2bc5-46a8-46a1-8785-e9ed19b1acd3"
      },
      "outputs": [
        {
          "output_type": "execute_result",
          "data": {
            "text/plain": [
              "-1.6666666666666667"
            ]
          },
          "metadata": {},
          "execution_count": 30
        }
      ],
      "source": [
        "# Z-Score calculation for single data point\n",
        "def zscore(dp, mean, sd):\n",
        "    z = (dp - mean) / sd\n",
        "    return z\n",
        "\n",
        "zscore(71, 76, 3)"
      ]
    },
    {
      "cell_type": "code",
      "execution_count": null,
      "id": "c3b1b98d-3fe2-4822-ad98-54af06ac3a07",
      "metadata": {
        "id": "c3b1b98d-3fe2-4822-ad98-54af06ac3a07",
        "outputId": "7c68ee6d-8ed2-4039-fa44-5997769e2206"
      },
      "outputs": [
        {
          "data": {
            "text/plain": [
              "array([-1.13750025, -1.13750025, -1.13750025, -0.83815808, -0.53881591,\n",
              "        0.65855277,  0.65855277,  0.95789494,  0.95789494,  1.55657928])"
            ]
          },
          "execution_count": 23,
          "metadata": {},
          "output_type": "execute_result"
        }
      ],
      "source": [
        "# Z-Scores calculation for every item in an array\n",
        "stats.zscore(arr)"
      ]
    },
    {
      "cell_type": "markdown",
      "source": [
        "**references**\n",
        "\n",
        "\n",
        "\n",
        "* https://en.wikipedia.org/wiki/Statistics \n",
        "* https://en.wikipedia.org/wiki/Statistical_dispersion \n",
        "* https://en.wikipedia.org/wiki/Mean \n",
        "* https://en.wikipedia.org/wiki/Expected_value \n",
        "* https://en.wikipedia.org/wiki/Standard_deviation\n",
        "\n"
      ],
      "metadata": {
        "id": "1pJPJqm_N-9P"
      },
      "id": "1pJPJqm_N-9P"
    }
  ],
  "metadata": {
    "kernelspec": {
      "display_name": "Python 3 (ipykernel)",
      "language": "python",
      "name": "python3"
    },
    "language_info": {
      "codemirror_mode": {
        "name": "ipython",
        "version": 3
      },
      "file_extension": ".py",
      "mimetype": "text/x-python",
      "name": "python",
      "nbconvert_exporter": "python",
      "pygments_lexer": "ipython3",
      "version": "3.9.10"
    },
    "colab": {
      "name": "descriptive_analytics.ipynb",
      "provenance": [],
      "include_colab_link": true
    }
  },
  "nbformat": 4,
  "nbformat_minor": 5
}